{
 "cells": [
  {
   "cell_type": "markdown",
   "id": "4ba57b21-2143-40b6-a838-bcb90047ecd1",
   "metadata": {},
   "source": [
    "# Jonny Trials"
   ]
  },
  {
   "cell_type": "code",
   "execution_count": 1,
   "id": "ff057361-c422-4f81-8c57-0e0e60fef2ef",
   "metadata": {},
   "outputs": [
    {
     "name": "stdout",
     "output_type": "stream",
     "text": [
      "                            OLS Regression Results                            \n",
      "==============================================================================\n",
      "Dep. Variable:               Accuracy   R-squared:                       0.100\n",
      "Model:                            OLS   Adj. R-squared:                 -0.575\n",
      "Method:                 Least Squares   F-statistic:                    0.1481\n",
      "Date:                Mon, 07 Apr 2025   Prob (F-statistic):              0.926\n",
      "Time:                        20:35:52   Log-Likelihood:                -30.243\n",
      "No. Observations:                   8   AIC:                             68.49\n",
      "Df Residuals:                       4   BIC:                             68.80\n",
      "Df Model:                           3                                         \n",
      "Covariance Type:            nonrobust                                         \n",
      "==============================================================================\n",
      "                 coef    std err          t      P>|t|      [0.025      0.975]\n",
      "------------------------------------------------------------------------------\n",
      "Intercept     40.0000      5.303      7.542      0.002      25.276      54.724\n",
      "Stance         2.5000      5.303      0.471      0.662     -12.224      17.224\n",
      "Focus       1.776e-15      5.303   3.35e-16      1.000     -14.724      14.724\n",
      "Hand          -2.5000      5.303     -0.471      0.662     -17.224      12.224\n",
      "==============================================================================\n",
      "Omnibus:                        3.004   Durbin-Watson:                   1.889\n",
      "Prob(Omnibus):                  0.223   Jarque-Bera (JB):                0.977\n",
      "Skew:                          -0.314   Prob(JB):                        0.614\n",
      "Kurtosis:                       1.407   Cond. No.                         1.00\n",
      "==============================================================================\n",
      "\n",
      "Notes:\n",
      "[1] Standard Errors assume that the covariance matrix of the errors is correctly specified.\n"
     ]
    },
    {
     "name": "stderr",
     "output_type": "stream",
     "text": [
      "/Users/nabiljohny/miniconda3/envs/3s03-stats/lib/python3.13/site-packages/scipy/stats/_axis_nan_policy.py:430: UserWarning: `kurtosistest` p-value may be inaccurate with fewer than 20 observations; only n=8 observations were given.\n",
      "  return hypotest_fun_in(*args, **kwds)\n"
     ]
    }
   ],
   "source": [
    "import pandas as pd\n",
    "import statsmodels.formula.api as smf\n",
    "\n",
    "# Load Excel file\n",
    "df = pd.read_csv(\"Jonny_s_Trials.csv\")\n",
    "\n",
    "# Encode categorical variables\n",
    "df[\"Stance\"] = df[\"Stance\"].map({\"Square\": -1, \"Staggered\": 1})\n",
    "df[\"Focus\"] = df[\"Focus\"].map({\"No focus\": -1, \"Focused\": 1})\n",
    "df[\"Hand\"] = df[\"Hand Placement\"].map({\"Off seam\": -1, \"On seam\": 1})\n",
    "\n",
    "# Fit linear regression model\n",
    "model = smf.ols(formula=\"Accuracy ~ Stance + Focus + Hand\", data=df).fit()\n",
    "\n",
    "# Show regression results\n",
    "print(model.summary())"
   ]
  },
  {
   "cell_type": "markdown",
   "id": "de399dc1-5c11-440c-9aea-f31c2c9468ae",
   "metadata": {},
   "source": [
    "# Nabil Trials"
   ]
  },
  {
   "cell_type": "code",
   "execution_count": 2,
   "id": "677f4a61-dac3-484b-a4ab-17532ea1794f",
   "metadata": {},
   "outputs": [
    {
     "name": "stdout",
     "output_type": "stream",
     "text": [
      "                            OLS Regression Results                            \n",
      "==============================================================================\n",
      "Dep. Variable:               Accuracy   R-squared:                       0.300\n",
      "Model:                            OLS   Adj. R-squared:                 -0.225\n",
      "Method:                 Least Squares   F-statistic:                    0.5714\n",
      "Date:                Mon, 07 Apr 2025   Prob (F-statistic):              0.663\n",
      "Time:                        20:35:52   Log-Likelihood:                -29.238\n",
      "No. Observations:                   8   AIC:                             66.48\n",
      "Df Residuals:                       4   BIC:                             66.79\n",
      "Df Model:                           3                                         \n",
      "Covariance Type:            nonrobust                                         \n",
      "==============================================================================\n",
      "                 coef    std err          t      P>|t|      [0.025      0.975]\n",
      "------------------------------------------------------------------------------\n",
      "Intercept     80.0000      4.677     17.105      0.000      67.014      92.986\n",
      "Stance        -5.0000      4.677     -1.069      0.345     -17.986       7.986\n",
      "Focus         -2.5000      4.677     -0.535      0.621     -15.486      10.486\n",
      "Hand          -2.5000      4.677     -0.535      0.621     -15.486      10.486\n",
      "==============================================================================\n",
      "Omnibus:                        0.136   Durbin-Watson:                   1.929\n",
      "Prob(Omnibus):                  0.934   Jarque-Bera (JB):                0.333\n",
      "Skew:                           0.000   Prob(JB):                        0.846\n",
      "Kurtosis:                       2.000   Cond. No.                         1.00\n",
      "==============================================================================\n",
      "\n",
      "Notes:\n",
      "[1] Standard Errors assume that the covariance matrix of the errors is correctly specified.\n"
     ]
    },
    {
     "name": "stderr",
     "output_type": "stream",
     "text": [
      "/Users/nabiljohny/miniconda3/envs/3s03-stats/lib/python3.13/site-packages/scipy/stats/_axis_nan_policy.py:430: UserWarning: `kurtosistest` p-value may be inaccurate with fewer than 20 observations; only n=8 observations were given.\n",
      "  return hypotest_fun_in(*args, **kwds)\n"
     ]
    }
   ],
   "source": [
    "import pandas as pd\n",
    "import statsmodels.formula.api as smf\n",
    "\n",
    "# Load Excel file\n",
    "df = pd.read_csv(\"Nabil_s_Trials.csv\")\n",
    "\n",
    "# Encode categorical variables\n",
    "df[\"Stance\"] = df[\"Stance\"].map({\"Square\": -1, \"Staggered\": 1})\n",
    "df[\"Focus\"] = df[\"Focus\"].map({\"No focus\": -1, \"Focused\": 1})\n",
    "df[\"Hand\"] = df[\"Hand Placement\"].map({\"Off seam\": -1, \"On seam\": 1})\n",
    "\n",
    "# Fit linear regression model\n",
    "model = smf.ols(formula=\"Accuracy ~ Stance + Focus + Hand\", data=df).fit()\n",
    "\n",
    "# Show regression results\n",
    "print(model.summary())\n"
   ]
  },
  {
   "cell_type": "markdown",
   "id": "46ee11a0-6efa-460f-99b9-25c7141b97a5",
   "metadata": {},
   "source": [
    "# Saransh Trials"
   ]
  },
  {
   "cell_type": "code",
   "execution_count": 3,
   "id": "3871a492-78fd-4365-899c-02c3b7365a5e",
   "metadata": {},
   "outputs": [
    {
     "name": "stdout",
     "output_type": "stream",
     "text": [
      "                            OLS Regression Results                            \n",
      "==============================================================================\n",
      "Dep. Variable:               Accuracy   R-squared:                       0.261\n",
      "Model:                            OLS   Adj. R-squared:                 -0.293\n",
      "Method:                 Least Squares   F-statistic:                    0.4706\n",
      "Date:                Mon, 07 Apr 2025   Prob (F-statistic):              0.719\n",
      "Time:                        20:35:53   Log-Likelihood:                -30.015\n",
      "No. Observations:                   8   AIC:                             68.03\n",
      "Df Residuals:                       4   BIC:                             68.35\n",
      "Df Model:                           3                                         \n",
      "Covariance Type:            nonrobust                                         \n",
      "==============================================================================\n",
      "                 coef    std err          t      P>|t|      [0.025      0.975]\n",
      "------------------------------------------------------------------------------\n",
      "Intercept     47.5000      5.154      9.216      0.001      33.191      61.809\n",
      "Stance        -5.0000      5.154     -0.970      0.387     -19.309       9.309\n",
      "Focus          2.5000      5.154      0.485      0.653     -11.809      16.809\n",
      "Hand          -2.5000      5.154     -0.485      0.653     -16.809      11.809\n",
      "==============================================================================\n",
      "Omnibus:                        2.905   Durbin-Watson:                   2.412\n",
      "Prob(Omnibus):                  0.234   Jarque-Bera (JB):                1.611\n",
      "Skew:                          -1.027   Prob(JB):                        0.447\n",
      "Kurtosis:                       2.218   Cond. No.                         1.00\n",
      "==============================================================================\n",
      "\n",
      "Notes:\n",
      "[1] Standard Errors assume that the covariance matrix of the errors is correctly specified.\n"
     ]
    },
    {
     "name": "stderr",
     "output_type": "stream",
     "text": [
      "/Users/nabiljohny/miniconda3/envs/3s03-stats/lib/python3.13/site-packages/scipy/stats/_axis_nan_policy.py:430: UserWarning: `kurtosistest` p-value may be inaccurate with fewer than 20 observations; only n=8 observations were given.\n",
      "  return hypotest_fun_in(*args, **kwds)\n"
     ]
    }
   ],
   "source": [
    "import pandas as pd\n",
    "import statsmodels.formula.api as smf\n",
    "\n",
    "# Load Excel file\n",
    "df = pd.read_csv(\"Saransh_s_Trials.csv\")\n",
    "\n",
    "# Encode categorical variables\n",
    "df[\"Stance\"] = df[\"Stance\"].map({\"Square\": -1, \"Staggered\": 1})\n",
    "df[\"Focus\"] = df[\"Focus\"].map({\"No focus\": -1, \"Focused\": 1})\n",
    "df[\"Hand\"] = df[\"Hand Placement\"].map({\"Off seam\": -1, \"On seam\": 1})\n",
    "\n",
    "# Fit linear regression model\n",
    "model = smf.ols(formula=\"Accuracy ~ Stance + Focus + Hand\", data=df).fit()\n",
    "\n",
    "# Show regression results\n",
    "print(model.summary())\n"
   ]
  },
  {
   "cell_type": "markdown",
   "id": "27db1d3d-2ace-498b-b61e-67707c011cda",
   "metadata": {},
   "source": [
    "# Combined"
   ]
  },
  {
   "cell_type": "code",
   "execution_count": 7,
   "id": "c1870d81-2fc1-48c8-836a-45844420617d",
   "metadata": {},
   "outputs": [
    {
     "name": "stdout",
     "output_type": "stream",
     "text": [
      "                            OLS Regression Results                            \n",
      "==============================================================================\n",
      "Dep. Variable:               Accuracy   R-squared:                       0.029\n",
      "Model:                            OLS   Adj. R-squared:                 -0.117\n",
      "Method:                 Least Squares   F-statistic:                    0.1983\n",
      "Date:                Mon, 07 Apr 2025   Prob (F-statistic):              0.896\n",
      "Time:                        20:38:09   Log-Likelihood:                -106.54\n",
      "No. Observations:                  24   AIC:                             221.1\n",
      "Df Residuals:                      20   BIC:                             225.8\n",
      "Df Model:                           3                                         \n",
      "Covariance Type:            nonrobust                                         \n",
      "==============================================================================\n",
      "                 coef    std err          t      P>|t|      [0.025      0.975]\n",
      "------------------------------------------------------------------------------\n",
      "Intercept     55.8333      4.583     12.182      0.000      46.273      65.394\n",
      "Stance        -2.5000      4.583     -0.545      0.591     -12.061       7.061\n",
      "Focus      -7.105e-15      4.583  -1.55e-15      1.000      -9.561       9.561\n",
      "Hand          -2.5000      4.583     -0.545      0.591     -12.061       7.061\n",
      "==============================================================================\n",
      "Omnibus:                        0.546   Durbin-Watson:                   2.846\n",
      "Prob(Omnibus):                  0.761   Jarque-Bera (JB):                0.649\n",
      "Skew:                           0.243   Prob(JB):                        0.723\n",
      "Kurtosis:                       2.358   Cond. No.                         1.00\n",
      "==============================================================================\n",
      "\n",
      "Notes:\n",
      "[1] Standard Errors assume that the covariance matrix of the errors is correctly specified.\n"
     ]
    }
   ],
   "source": [
    "import pandas as pd\n",
    "import statsmodels.formula.api as smf\n",
    "\n",
    "# Step 1: Load the already-encoded dataset\n",
    "df = pd.read_csv(\"DOE_FreeThrow_Combined.csv\")\n",
    "\n",
    "# Step 3: Run regression on already-encoded data\n",
    "model = smf.ols(\"Accuracy ~ Stance + Focus + Hand\", data=df).fit()\n",
    "\n",
    "# Step 4: Show results\n",
    "print(model.summary())\n"
   ]
  },
  {
   "cell_type": "code",
   "execution_count": null,
   "id": "c333f331-f10c-48ae-a803-f2edd1af6ff7",
   "metadata": {},
   "outputs": [],
   "source": []
  }
 ],
 "metadata": {
  "kernelspec": {
   "display_name": "Python 3 (ipykernel)",
   "language": "python",
   "name": "python3"
  },
  "language_info": {
   "codemirror_mode": {
    "name": "ipython",
    "version": 3
   },
   "file_extension": ".py",
   "mimetype": "text/x-python",
   "name": "python",
   "nbconvert_exporter": "python",
   "pygments_lexer": "ipython3",
   "version": "3.13.1"
  }
 },
 "nbformat": 4,
 "nbformat_minor": 5
}
